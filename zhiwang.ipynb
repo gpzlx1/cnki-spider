{
    "cells": [
        {
            "cell_type": "code",
            "execution_count": 125,
            "source": [
                "import time \n",
                "import random\n",
                "from selenium import webdriver\n",
                "from selenium.webdriver.support.ui import WebDriverWait\n",
                "from selenium.webdriver.support import expected_conditions as EC\n",
                "from selenium.webdriver.common.by import By\n",
                "from selenium.webdriver.common.desired_capabilities import DesiredCapabilities\n",
                "from urllib.parse import urljoin\n",
                "\n",
                "# params\n",
                "theme = \"抑郁症\"\n",
                "timeout = 5\n",
                "papers_need = 22\n",
                "\n",
                "# env\n",
                "chrome_options= webdriver.options()\n",
                "chrome_options.add_argument('--headless')\n",
                "chrome_options.add_argument(\"--no-sandbox\")\n",
                "chrome_options.add_argument('--disable-gpu')\n",
                "chrome_options.add_argument(\"window-size=1920,1080\")\n",
                "chrome_options.add_experimental_option(\"prefs\", {\"profile.managed_default_content_settings.images\": 2})\n",
                "browser = webdriver.Chrome(chrome_options=chrome_options)\n",
                "browser.set_page_load_timeout(timeout)"
            ],
            "outputs": [
                {
                    "output_type": "stream",
                    "name": "stderr",
                    "text": [
                        "/tmp/ipykernel_11502/518620249.py:22: DeprecationWarning: use options instead of chrome_options\n",
                        "  browser = webdriver.Chrome(chrome_options=chrome_options)\n"
                    ]
                }
            ],
            "metadata": {}
        },
        {
            "cell_type": "code",
            "execution_count": 128,
            "source": [
                "### \n",
                "browser.get(\"https://kns.cnki.net/kns8/defaultresult/index\")\n",
                "\n",
                "# 传入关键字\n",
                "WebDriverWait(browser, timeout).until(EC.presence_of_element_located((By.XPATH ,'//*[@id=\"txt_search\"]'))).send_keys(theme)\n",
                "WebDriverWait(browser, timeout).until(EC.presence_of_element_located((By.XPATH ,\"/html/body/div[2]/div/div[2]/div[1]/input[2]\"))).click()"
            ],
            "outputs": [],
            "metadata": {}
        },
        {
            "cell_type": "code",
            "execution_count": 129,
            "source": [
                "total_number = WebDriverWait(browser, timeout).until(EC.presence_of_element_located((By.XPATH ,'//*[@id=\"countPageDiv\"]/span[1]/em'))).text\n",
                "print(\"Find total papers: {}\".format(total_number))"
            ],
            "outputs": [
                {
                    "output_type": "stream",
                    "name": "stdout",
                    "text": [
                        "Find total papers: 536,139\n"
                    ]
                }
            ],
            "metadata": {}
        },
        {
            "cell_type": "code",
            "execution_count": 130,
            "source": [
                "count = 0 \n",
                "while count < papers_need:\n",
                "    \n",
                "    papers_list = WebDriverWait(browser, timeout).until(EC.presence_of_all_elements_located((By.CLASS_NAME, 'fz14')))\n",
                "    print(len(papers_list))\n",
                "    for paper_link in papers_list:\n",
                "        try:\n",
                "            sleep_time = random.randint(1,3)\n",
                "            time.sleep(sleep_time)\n",
                "\n",
                "            paper_link.click()\n",
                "            n = browser.window_handles\n",
                "            browser.switch_to.window(n[-1])\n",
                "\n",
                "\n",
                "            title =  WebDriverWait(browser, timeout).until(EC.presence_of_element_located((By.XPATH, '/html/body/div[2]/div[1]/div[3]/div/div/div[3]/div/h1'))).text\n",
                "            authors = WebDriverWait(browser, timeout).until(EC.presence_of_all_elements_located((By.XPATH, '//*[@id=\"authorpart\"]/span')))\n",
                "            authors = \",\".join([ item.text for item in authors ])\n",
                "            abstract = WebDriverWait(browser, timeout).until(EC.presence_of_element_located((By.XPATH, '//*[@id=\"ChDivSummary\"]'))).text\n",
                "            \n",
                "            print(\"[{}] {} {} {}\".format(count + 1, title, authors, abstract))\n",
                "\n",
                "        except:\n",
                "            print(\"[Fail] Crawl failure for No.{} paper\".format(count + 1))\n",
                "\n",
                "        finally:\n",
                "            count = count + 1\n",
                "            n = browser.window_handles\n",
                "            if len(n) > 1:\n",
                "                browser.close()\n",
                "                browser.switch_to.window(n[0])\n",
                "\n",
                "    # 下一页\n",
                "    while True:\n",
                "        try:\n",
                "            WebDriverWait(browser, timeout).until(EC.presence_of_element_located((By.XPATH ,'//*[@id=\"PageNext\"]'))).click()\n",
                "            break\n",
                "        except:\n",
                "            print(\"[Fail] cannot switch to the next page\")\n",
                "    "
            ],
            "outputs": [
                {
                    "output_type": "stream",
                    "name": "stdout",
                    "text": [
                        "20\n",
                        "[Fail] Crawl failure for No.1 paper\n",
                        "[Fail] Crawl failure for No.2 paper\n",
                        "[2] 老年脑卒中后抑郁患者实施心理康复护理的临床效果观察 谢军影,黄莹,庄丽慧 目的分析对老年脑卒中后抑郁患者实施心理康复护理的效果。方法选取2017年6月～2020年6月本院确诊的老年脑卒中后抑郁患者82例,采取随机数字表法将其分为两组,其中41例予以常规护理,纳入对照组,另41例在常规护理基础上予以心理康复护理,纳入研究组。分别于护理前后进行汉密尔顿抑郁量表（HAMD）评分评估,并评估疗效。结果两组患者护理前HAMD评分差异无统计学意义（P>0.05）;护理后,两组HAMD评分均较护理前下降,且研究组显著低于对照组,组间差异有统计学意义（P<0.05）。研究组临床总有效率高于对照组,差异有统计学意义（P<0.05）。结论在对老年脑卒中后抑郁患者实施护理过程中予以心理康复护理临床效果显著,不仅能够有效改善患者抑郁症状,同时还能提高临床疗效。 \n",
                        "[3] 心理护理干预对脑震荡患者焦虑抑郁综合征的作用分析 汪蔷薇,孔花顺,赵亚敏,邓海英 目的分析心理护理干预对脑震荡患者焦虑抑郁综合征的干预效果。方法选取2019年1月～2020年11月本院收治的脑震荡焦虑抑郁综合征患者123例为研究对象,以随机摸球法分为对照组61例,主要进行常规干预,研究组患者62例进行心理护理,对比两种干预方式下患者焦虑、抑郁状况。结果治疗后研究组患者焦虑抑郁情况更轻,与对照组相比差异较大（P<0.05）;研究组患者总有效率更高,与对照组相比差异较大（P<0.05）。结论为脑震荡焦虑抑郁综合征患者进行心理护理干预可有效控制患者不良心理状况,提升患者生活质量。 \n",
                        "[4] 在躁狂抑郁症患者护理中实施临床护理路径干预的有效性分析 田学丽1,于慧丽2,赵凯2 目的探究躁狂抑郁症患者护理中实施临床护理路径干预的效果。方法将近一年在本院接受治疗的90例躁狂抑郁症患者按照不同的护理方式分为观察组（n=45）和对照组（n=45）,对照组接受常规护理,观察组接受临床护理路径干预,比较两组护理效果。结果相较于对照组,观察组护理纠纷发生率以及护理风险事件发生率更低,组间差异明显（P<0.05）。护理前,两组抑郁、焦虑评分无明显差异（P>0.05）;护理后,观察组抑郁评分和焦虑评分明显低于对照组,组间差异明显（P<0.05）。相较于对照组,观察组对护理工作的满意度更高,组间差异明显（P<0.05）。结论对躁狂抑郁症患者实施临床护理路径干预,能够改善患者的不良情绪,减少护理纠纷和护理风险事件的发生,让患者对护理工作更加满意,值得推广应用。 \n",
                        "[5] 探究度洛西汀联合心理治疗对青少年抑郁症的疗效 周爱霞,肖俊,姚莹 目的分析度洛西汀联合心理治疗对青少年抑郁症（MDD）的疗效。方法选择本院2018年1月～2020年12月的青少年MDD患者110例,按照数字表随机法分两组各55例,药物组病患给予度洛西汀治疗,药物心理组在该基础上增加心理治疗。比较两组治疗前后患者汉密尔顿抑郁量表（HAMD）、抑郁自评量表（SDS）评分、去甲肾上腺素水平和5-羟色胺水平、健康调查简表（SF-36）评分、转归率。结果药物心理组治疗后患者HAMD评分、SDS评分、去甲肾上腺素水平显著低于药物组;5-羟色胺水平高于药物组,SF-36评分高于药物组,转归率高于药物组,P<0.05。结论使用度洛西汀的同时采取心理治疗可减轻青少年抑郁程度并改善患者健康状况,还可改善患者的血清学指标。 \n",
                        "[Fail] Crawl failure for No.7 paper\n",
                        "[Fail] Crawl failure for No.8 paper\n",
                        "[Fail] Crawl failure for No.9 paper\n",
                        "[Fail] Crawl failure for No.10 paper\n",
                        "[Fail] Crawl failure for No.11 paper\n",
                        "[Fail] Crawl failure for No.12 paper\n",
                        "[Fail] Crawl failure for No.13 paper\n",
                        "[Fail] Crawl failure for No.14 paper\n",
                        "[14] 逍遥散促进小胶质细胞极化改善血管性痴呆伴抑郁小鼠髓鞘再生及抑郁表型 单楠1,谭子虎1,2,杨冰3,马峥玲1,尹茜茜1 目的：探讨逍遥散对血管性痴呆（VaD）小鼠抑郁行为表型的作用及可能机制。方法：3月龄雄性C57/BL6小鼠60只，分为对照组、模型组、氟西汀阳性对照组以及逍遥散低、中、高剂量组。除对照组外，其余5组小鼠采用双侧颈总动脉狭窄术，术后2周开始给予慢性束缚应激，每天6h，构建血管性痴呆伴抑郁小鼠模型；逍遥散低、中、高组予逍遥散水煎剂(5，10，20g·kg-1·d-1)灌胃，氟西汀阳性对照组给予氟西汀(10mg·kg-1·d-1)灌胃，对照组、模型组给予等体积生理盐水灌胃，共计4周，给药期间给予束缚应激维持；糖水偏好试验、悬尾试验检测小鼠抑郁行为表型，免疫荧光法检测小鼠腹侧海马（vHIP）髓鞘碱性蛋白（MBP）荧光表达水平；透射电镜观察小鼠vHIP髓鞘超微结构；蛋白免疫印迹法（Western Blot）检测MBP，少突胶质细胞糖蛋白（MOG），髓鞘相关醣蛋白（MAG），髓样细胞触发性受体-2（TREM2），诱导型一氧化氮合酶（iNOS），精氨酸酶1（Arg1），白细胞介素-1β（IL-1β），肿瘤坏死因子... \n",
                        "[15] 腹针治疗抑郁症下丘脑功能连接的fMRI研究 叶郭锡,刘雅慧,曾旭文,梁治平 目的腹针联合药物治疗抑郁患者静息态下丘脑功能连接fMRI技术的研究。方法随机将36例患者分为2组,将腹针组与假针组行治疗前和后静息态MRI扫描。结果与假针组相比,以下丘脑（左侧pa、左侧ph、左侧vmh）为种子点,腹针组以中央前后回、枕中回、小脑上脚、额下回等功能连接降低为主,多个脑区发生异常功能连接,腹针组变化脑区多于假针组。结论腹针组和假针组腹针治疗后全脑功能连接均降低,功能磁共振为其治疗抑郁症提供确切影像学依据。 \n",
                        "[Fail] Crawl failure for No.17 paper\n",
                        "[Fail] Crawl failure for No.18 paper\n",
                        "[Fail] Crawl failure for No.19 paper\n",
                        "[Fail] Crawl failure for No.20 paper\n"
                    ]
                },
                {
                    "output_type": "error",
                    "ename": "TimeoutException",
                    "evalue": "Message: timeout: Timed out receiving message from renderer: 5.000\n  (Session info: headless chrome=92.0.4515.107)\n",
                    "traceback": [
                        "\u001b[0;31m---------------------------------------------------------------------------\u001b[0m",
                        "\u001b[0;31mTimeoutException\u001b[0m                          Traceback (most recent call last)",
                        "\u001b[0;32m/tmp/ipykernel_11502/3119814487.py\u001b[0m in \u001b[0;36m<module>\u001b[0;34m\u001b[0m\n\u001b[1;32m     32\u001b[0m \u001b[0;34m\u001b[0m\u001b[0m\n\u001b[1;32m     33\u001b[0m     \u001b[0;31m# 下一页\u001b[0m\u001b[0;34m\u001b[0m\u001b[0;34m\u001b[0m\u001b[0;34m\u001b[0m\u001b[0m\n\u001b[0;32m---> 34\u001b[0;31m     \u001b[0mWebDriverWait\u001b[0m\u001b[0;34m(\u001b[0m\u001b[0mbrowser\u001b[0m\u001b[0;34m,\u001b[0m \u001b[0mtimeout\u001b[0m\u001b[0;34m)\u001b[0m\u001b[0;34m.\u001b[0m\u001b[0muntil\u001b[0m\u001b[0;34m(\u001b[0m\u001b[0mEC\u001b[0m\u001b[0;34m.\u001b[0m\u001b[0mpresence_of_element_located\u001b[0m\u001b[0;34m(\u001b[0m\u001b[0;34m(\u001b[0m\u001b[0mBy\u001b[0m\u001b[0;34m.\u001b[0m\u001b[0mXPATH\u001b[0m \u001b[0;34m,\u001b[0m\u001b[0;34m'//*[@id=\"PageNext\"]'\u001b[0m\u001b[0;34m)\u001b[0m\u001b[0;34m)\u001b[0m\u001b[0;34m)\u001b[0m\u001b[0;34m.\u001b[0m\u001b[0mclick\u001b[0m\u001b[0;34m(\u001b[0m\u001b[0;34m)\u001b[0m\u001b[0;34m\u001b[0m\u001b[0;34m\u001b[0m\u001b[0m\n\u001b[0m\u001b[1;32m     35\u001b[0m \u001b[0;34m\u001b[0m\u001b[0m\n\u001b[1;32m     36\u001b[0m     \u001b[0;32mbreak\u001b[0m\u001b[0;34m\u001b[0m\u001b[0;34m\u001b[0m\u001b[0m\n",
                        "\u001b[0;32m/mnt/c/Users/zxhdbc/zhiwang/my_venv/lib/python3.8/site-packages/selenium/webdriver/remote/webelement.py\u001b[0m in \u001b[0;36mclick\u001b[0;34m(self)\u001b[0m\n\u001b[1;32m     78\u001b[0m     \u001b[0;32mdef\u001b[0m \u001b[0mclick\u001b[0m\u001b[0;34m(\u001b[0m\u001b[0mself\u001b[0m\u001b[0;34m)\u001b[0m\u001b[0;34m:\u001b[0m\u001b[0;34m\u001b[0m\u001b[0;34m\u001b[0m\u001b[0m\n\u001b[1;32m     79\u001b[0m         \u001b[0;34m\"\"\"Clicks the element.\"\"\"\u001b[0m\u001b[0;34m\u001b[0m\u001b[0;34m\u001b[0m\u001b[0m\n\u001b[0;32m---> 80\u001b[0;31m         \u001b[0mself\u001b[0m\u001b[0;34m.\u001b[0m\u001b[0m_execute\u001b[0m\u001b[0;34m(\u001b[0m\u001b[0mCommand\u001b[0m\u001b[0;34m.\u001b[0m\u001b[0mCLICK_ELEMENT\u001b[0m\u001b[0;34m)\u001b[0m\u001b[0;34m\u001b[0m\u001b[0;34m\u001b[0m\u001b[0m\n\u001b[0m\u001b[1;32m     81\u001b[0m \u001b[0;34m\u001b[0m\u001b[0m\n\u001b[1;32m     82\u001b[0m     \u001b[0;32mdef\u001b[0m \u001b[0msubmit\u001b[0m\u001b[0;34m(\u001b[0m\u001b[0mself\u001b[0m\u001b[0;34m)\u001b[0m\u001b[0;34m:\u001b[0m\u001b[0;34m\u001b[0m\u001b[0;34m\u001b[0m\u001b[0m\n",
                        "\u001b[0;32m/mnt/c/Users/zxhdbc/zhiwang/my_venv/lib/python3.8/site-packages/selenium/webdriver/remote/webelement.py\u001b[0m in \u001b[0;36m_execute\u001b[0;34m(self, command, params)\u001b[0m\n\u001b[1;32m    631\u001b[0m             \u001b[0mparams\u001b[0m \u001b[0;34m=\u001b[0m \u001b[0;34m{\u001b[0m\u001b[0;34m}\u001b[0m\u001b[0;34m\u001b[0m\u001b[0;34m\u001b[0m\u001b[0m\n\u001b[1;32m    632\u001b[0m         \u001b[0mparams\u001b[0m\u001b[0;34m[\u001b[0m\u001b[0;34m'id'\u001b[0m\u001b[0;34m]\u001b[0m \u001b[0;34m=\u001b[0m \u001b[0mself\u001b[0m\u001b[0;34m.\u001b[0m\u001b[0m_id\u001b[0m\u001b[0;34m\u001b[0m\u001b[0;34m\u001b[0m\u001b[0m\n\u001b[0;32m--> 633\u001b[0;31m         \u001b[0;32mreturn\u001b[0m \u001b[0mself\u001b[0m\u001b[0;34m.\u001b[0m\u001b[0m_parent\u001b[0m\u001b[0;34m.\u001b[0m\u001b[0mexecute\u001b[0m\u001b[0;34m(\u001b[0m\u001b[0mcommand\u001b[0m\u001b[0;34m,\u001b[0m \u001b[0mparams\u001b[0m\u001b[0;34m)\u001b[0m\u001b[0;34m\u001b[0m\u001b[0;34m\u001b[0m\u001b[0m\n\u001b[0m\u001b[1;32m    634\u001b[0m \u001b[0;34m\u001b[0m\u001b[0m\n\u001b[1;32m    635\u001b[0m     \u001b[0;32mdef\u001b[0m \u001b[0mfind_element\u001b[0m\u001b[0;34m(\u001b[0m\u001b[0mself\u001b[0m\u001b[0;34m,\u001b[0m \u001b[0mby\u001b[0m\u001b[0;34m=\u001b[0m\u001b[0mBy\u001b[0m\u001b[0;34m.\u001b[0m\u001b[0mID\u001b[0m\u001b[0;34m,\u001b[0m \u001b[0mvalue\u001b[0m\u001b[0;34m=\u001b[0m\u001b[0;32mNone\u001b[0m\u001b[0;34m)\u001b[0m\u001b[0;34m:\u001b[0m\u001b[0;34m\u001b[0m\u001b[0;34m\u001b[0m\u001b[0m\n",
                        "\u001b[0;32m/mnt/c/Users/zxhdbc/zhiwang/my_venv/lib/python3.8/site-packages/selenium/webdriver/remote/webdriver.py\u001b[0m in \u001b[0;36mexecute\u001b[0;34m(self, driver_command, params)\u001b[0m\n\u001b[1;32m    319\u001b[0m         \u001b[0mresponse\u001b[0m \u001b[0;34m=\u001b[0m \u001b[0mself\u001b[0m\u001b[0;34m.\u001b[0m\u001b[0mcommand_executor\u001b[0m\u001b[0;34m.\u001b[0m\u001b[0mexecute\u001b[0m\u001b[0;34m(\u001b[0m\u001b[0mdriver_command\u001b[0m\u001b[0;34m,\u001b[0m \u001b[0mparams\u001b[0m\u001b[0;34m)\u001b[0m\u001b[0;34m\u001b[0m\u001b[0;34m\u001b[0m\u001b[0m\n\u001b[1;32m    320\u001b[0m         \u001b[0;32mif\u001b[0m \u001b[0mresponse\u001b[0m\u001b[0;34m:\u001b[0m\u001b[0;34m\u001b[0m\u001b[0;34m\u001b[0m\u001b[0m\n\u001b[0;32m--> 321\u001b[0;31m             \u001b[0mself\u001b[0m\u001b[0;34m.\u001b[0m\u001b[0merror_handler\u001b[0m\u001b[0;34m.\u001b[0m\u001b[0mcheck_response\u001b[0m\u001b[0;34m(\u001b[0m\u001b[0mresponse\u001b[0m\u001b[0;34m)\u001b[0m\u001b[0;34m\u001b[0m\u001b[0;34m\u001b[0m\u001b[0m\n\u001b[0m\u001b[1;32m    322\u001b[0m             response['value'] = self._unwrap_value(\n\u001b[1;32m    323\u001b[0m                 response.get('value', None))\n",
                        "\u001b[0;32m/mnt/c/Users/zxhdbc/zhiwang/my_venv/lib/python3.8/site-packages/selenium/webdriver/remote/errorhandler.py\u001b[0m in \u001b[0;36mcheck_response\u001b[0;34m(self, response)\u001b[0m\n\u001b[1;32m    240\u001b[0m                 \u001b[0malert_text\u001b[0m \u001b[0;34m=\u001b[0m \u001b[0mvalue\u001b[0m\u001b[0;34m[\u001b[0m\u001b[0;34m'alert'\u001b[0m\u001b[0;34m]\u001b[0m\u001b[0;34m.\u001b[0m\u001b[0mget\u001b[0m\u001b[0;34m(\u001b[0m\u001b[0;34m'text'\u001b[0m\u001b[0;34m)\u001b[0m\u001b[0;34m\u001b[0m\u001b[0;34m\u001b[0m\u001b[0m\n\u001b[1;32m    241\u001b[0m             \u001b[0;32mraise\u001b[0m \u001b[0mexception_class\u001b[0m\u001b[0;34m(\u001b[0m\u001b[0mmessage\u001b[0m\u001b[0;34m,\u001b[0m \u001b[0mscreen\u001b[0m\u001b[0;34m,\u001b[0m \u001b[0mstacktrace\u001b[0m\u001b[0;34m,\u001b[0m \u001b[0malert_text\u001b[0m\u001b[0;34m)\u001b[0m\u001b[0;34m\u001b[0m\u001b[0;34m\u001b[0m\u001b[0m\n\u001b[0;32m--> 242\u001b[0;31m         \u001b[0;32mraise\u001b[0m \u001b[0mexception_class\u001b[0m\u001b[0;34m(\u001b[0m\u001b[0mmessage\u001b[0m\u001b[0;34m,\u001b[0m \u001b[0mscreen\u001b[0m\u001b[0;34m,\u001b[0m \u001b[0mstacktrace\u001b[0m\u001b[0;34m)\u001b[0m\u001b[0;34m\u001b[0m\u001b[0;34m\u001b[0m\u001b[0m\n\u001b[0m\u001b[1;32m    243\u001b[0m \u001b[0;34m\u001b[0m\u001b[0m\n\u001b[1;32m    244\u001b[0m     \u001b[0;32mdef\u001b[0m \u001b[0m_value_or_default\u001b[0m\u001b[0;34m(\u001b[0m\u001b[0mself\u001b[0m\u001b[0;34m,\u001b[0m \u001b[0mobj\u001b[0m\u001b[0;34m,\u001b[0m \u001b[0mkey\u001b[0m\u001b[0;34m,\u001b[0m \u001b[0mdefault\u001b[0m\u001b[0;34m)\u001b[0m\u001b[0;34m:\u001b[0m\u001b[0;34m\u001b[0m\u001b[0;34m\u001b[0m\u001b[0m\n",
                        "\u001b[0;31mTimeoutException\u001b[0m: Message: timeout: Timed out receiving message from renderer: 5.000\n  (Session info: headless chrome=92.0.4515.107)\n"
                    ]
                }
            ],
            "metadata": {}
        }
    ],
    "metadata": {
        "orig_nbformat": 4,
        "language_info": {
            "name": "python",
            "version": "3.8.10",
            "mimetype": "text/x-python",
            "codemirror_mode": {
                "name": "ipython",
                "version": 3
            },
            "pygments_lexer": "ipython3",
            "nbconvert_exporter": "python",
            "file_extension": ".py"
        },
        "kernelspec": {
            "name": "python3",
            "display_name": "Python 3.8.10 64-bit ('my_venv': venv)"
        },
        "interpreter": {
            "hash": "7aaadf93f12f39ab7305baa48506d26f25597445434c86164d283388ccd8cd7e"
        }
    },
    "nbformat": 4,
    "nbformat_minor": 2
}